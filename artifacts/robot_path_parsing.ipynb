{
 "cells": [
  {
   "cell_type": "code",
   "execution_count": 8,
   "id": "eac807d7-3397-488a-96f9-88f569f3a0ca",
   "metadata": {},
   "outputs": [],
   "source": [
    "f = open(\"plan.txt\", \"r\")\n",
    "lines = f.readlines()\n",
    "f.close()\n",
    "\n",
    "paths = {}\n",
    "curr_robot = \"\"\n",
    "\n",
    "for line in lines:\n",
    "    if \"Robot\" in line:\n",
    "        curr_robot = line.strip()\n",
    "        paths[curr_robot] = []\n",
    "    else:\n",
    "        paths[curr_robot].append(line)"
   ]
  },
  {
   "cell_type": "code",
   "execution_count": 9,
   "id": "8cc778b0-a78e-45b0-96f2-338ab4280048",
   "metadata": {},
   "outputs": [
    {
     "data": {
      "text/plain": [
       "dict_keys(['Robot 0', 'Robot 1', 'Robot 2', 'Robot 3', 'Robot 4', 'Robot 5', 'Robot 6', 'Robot 7', 'Robot 8', 'Robot 9'])"
      ]
     },
     "execution_count": 9,
     "metadata": {},
     "output_type": "execute_result"
    }
   ],
   "source": [
    "paths.keys()"
   ]
  },
  {
   "cell_type": "code",
   "execution_count": 10,
   "id": "d6831f11-d39c-454a-a57f-3347857e4c23",
   "metadata": {},
   "outputs": [],
   "source": [
    "for robot in paths.keys():\n",
    "    filename = (robot.replace(\" \", \"_\")) + \".pth\"\n",
    "    f = open(filename, \"w\")\n",
    "    f.writelines(paths[robot])\n",
    "    f.close()"
   ]
  },
  {
   "cell_type": "code",
   "execution_count": null,
   "id": "bdc4f892-553f-4f45-b577-b9e85515e587",
   "metadata": {},
   "outputs": [],
   "source": []
  }
 ],
 "metadata": {
  "kernelspec": {
   "display_name": "Python 3",
   "language": "python",
   "name": "python3"
  },
  "language_info": {
   "codemirror_mode": {
    "name": "ipython",
    "version": 3
   },
   "file_extension": ".py",
   "mimetype": "text/x-python",
   "name": "python",
   "nbconvert_exporter": "python",
   "pygments_lexer": "ipython3",
   "version": "3.9.18"
  }
 },
 "nbformat": 4,
 "nbformat_minor": 5
}
